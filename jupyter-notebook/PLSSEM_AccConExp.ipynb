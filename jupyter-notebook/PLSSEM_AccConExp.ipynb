{
  "cells": [
    {
      "cell_type": "markdown",
      "metadata": {
        "id": "QyIGltwbVtLK"
      },
      "source": [
        "# The quality of a scientific manuscript given by a peer-reviewed report in three dimensions: Accessibility, Contribution and Experimentation (AccConExp)\n",
        "## PLS-SEM Part\n",
        "ASPECT CATEGORIES\n",
        "\n",
        "* Motivation/Impact (MOT): Does the paper deal with a crucial issue? Could other professionals or researchers expand upon or use these concepts?\n",
        "Originality\n",
        "* (ORI): Are there any novel research methodologies, techniques, or insights?\n",
        "* Soudness/Correctness (SOU):  Is the proposed approach sound? Does the paper support its claims convincingly?\n",
        "\n",
        "* Substance(SUB): Does the paper provide substantial experiments to support the viabilityof the suggested approaches? Are thorough outcome analysesavailable? Does it have relevant ablation studies?\n",
        "\n",
        "* Clarity (CLA):How well prepared is your reader to understand what you did andwhy? How well-written and structured is the paper?\n",
        "\n",
        "* Meaningful Comparison (CMP):Is comparing the work to previous work sufficient, given the space constraints? Are the comparisons fair?\n",
        "\n",
        "Sentiment Analysis (POS NEG)\n",
        "We have taken the aspect-categories of the reports from the paper:\n",
        "Can We Automate Scientific Reviewing?\n",
        "https://arxiv.org/pdf/2102.00176.pdf\n",
        "\n",
        "Code in https://github.com/neulab/ReviewAdvisor\n",
        "\n",
        "### How to build the new construct given in AccConExp Model\n",
        "We will build four latent concepts (or constructs) from the aspect categories considered in the reviews of scientific manuscripts. Accessibility, Contribution and Experimentation and Decision. Being\n",
        "* Accessibility: If the document is well described, it conducts relevant analysis and discussions, facilitating the reader's understanding. It is well documented with references and mentions the progress to date related to the proposal.\n",
        "\n",
        "* Contribution: It is analyzed whether the proposal represents a great advance to the community or in the specific area of the proposal. Furthermore, it is determined whether the proposal is well motivated and, therefore, necessary to develop.\n",
        "\n",
        "* Experimentation: A set of experiments is proposed to validate the proposal. Comparisons with existing methods must be fair. The results obtained are correctly analyzed.\n",
        "\n",
        "* Decision: what is the final decision about the acceptance or rejection of the article based on the concepts of Accessibility, Contribution and Experimentation? Depending on the given decision, we have reinterpreted it in the following way: Suppose the article is accepted and the number of aspects with positive polarity is greater than the number of aspects with negative polarity. In that case, the decision will take the value of the number of positive aspects compared to the total of aspects (positive + negative) considered in the article. In the same way, it is considered when the number of aspects with negative aspects is more significant than the positive. In this case, the decision value will be the rate between the total number of aspects with negative polarity and the total number of aspects.\n",
        "\n",
        "\n",
        "The PLS-SEM model that we are going to consider is shown in the following image:\n",
        "![](https://drive.google.com/uc?id=1o47AI_SuuuRHVdmQlRqoo1ffT0SKjfgf)\n",
        "\n",
        "The aspects considered are reflective (unlike the formative ones, such as the indicator associated with decision). Thus, a manuscript that is accessible will reflect clarity and/or soundness. Next, we give a brief explication of concepts to validate the model proposed.\n",
        "* loadings ($\\lambda$): They are the labels of the arcs that go from a constructor (latent variable) to an indicator (part of the external model). The loading expresses the correlation between the constructor or latent variable and its indicator. The communalities are the squared values of the loadings. These represent the amount of variability explained by the construct or latent variable. For example, Accessibilida explains 0.78^2 of the clarity aspect.\n",
        "\n",
        "* cross-loadings: Una vez que se ha comprobado los loadings se debe analizar los cross-loadings. Esto es los loadings de un indicador con el resto de constructores y ver que en los otros constructores a los que no esta asociado tiene un valor de loading menor\n",
        "\n",
        "\n",
        "A constructor is well defined by its indicators if:\n",
        "* Dillon-Goldstein's rho is a coefficient that evaluates how well a block of indicators measures its corresponding construct or latent variable. According to the Dillon-Goldstein theory, rho must be greater than 0.7.\n",
        "\n",
        "* Average Variance Extracted (AVE): AVE varies from 0 to 1. An AVE value of 0.5 means that the construct or latent variable represents, on average, 50 percent or more of the variance in the observed variables. For example, Accessibility has a score of 0.61, which means that, on average, Accessibility represents 61 percent of the variance of clarity and soundness (on average).\n",
        "\n",
        "\n",
        "* $R^2$ indicates the percentage that the exogenous latent variables (they are the independent constructs in our case Accessibility, Contribution and Experimentation) predict the endogenous variable, in our model Decision, that is, the amount of variability that Experimentation, Contribution and Accessibility explain about Decision construct. In our case it is 0.66\n",
        "\n",
        "* Effect indicates the effect that one constructor has on another. To do this, the value of R^2 is obtained without taking into account the constructor and this new value is subtracted from the value of R^2 obtained with all the constructs. In our scheme we see the effect that Accessibility has on Decision, Contribution on Decision and Experimentation on Decision.\n",
        "\n",
        "* The goodness of fit is predicting the value of Decisión using exogenous constructs."
      ]
    },
    {
      "cell_type": "code",
      "execution_count": 1,
      "metadata": {
        "colab": {
          "base_uri": "https://localhost:8080/"
        },
        "id": "3-3iv9KoXIoC",
        "outputId": "574bb4ff-959e-4d18-fca8-cd56339122f8"
      },
      "outputs": [
        {
          "output_type": "stream",
          "name": "stdout",
          "text": [
            "Mounted at /content/drive\n"
          ]
        }
      ],
      "source": [
        "from google.colab import drive\n",
        "drive.mount('/content/drive')"
      ]
    },
    {
      "cell_type": "code",
      "execution_count": 2,
      "metadata": {
        "colab": {
          "base_uri": "https://localhost:8080/"
        },
        "id": "Mvkodu9iVsrR",
        "outputId": "16487cf5-47ea-4080-8970-4033d113ea41"
      },
      "outputs": [
        {
          "output_type": "stream",
          "name": "stdout",
          "text": [
            "Collecting plspm\n",
            "  Downloading plspm-0.5.6-py3-none-any.whl (42 kB)\n",
            "\u001b[?25l     \u001b[90m━━━━━━━━━━━━━━━━━━━━━━━━━━━━━━━━━━━━━━━━\u001b[0m \u001b[32m0.0/42.8 kB\u001b[0m \u001b[31m?\u001b[0m eta \u001b[36m-:--:--\u001b[0m\r\u001b[2K     \u001b[90m━━━━━━━━━━━━━━━━━━━━━━━━━━━━━━━━━━━━━━━━\u001b[0m \u001b[32m42.8/42.8 kB\u001b[0m \u001b[31m2.9 MB/s\u001b[0m eta \u001b[36m0:00:00\u001b[0m\n",
            "\u001b[?25hRequirement already satisfied: pandas in /usr/local/lib/python3.10/dist-packages (from plspm) (2.0.3)\n",
            "Requirement already satisfied: numpy in /usr/local/lib/python3.10/dist-packages (from plspm) (1.25.2)\n",
            "Requirement already satisfied: scipy in /usr/local/lib/python3.10/dist-packages (from plspm) (1.11.4)\n",
            "Requirement already satisfied: statsmodels in /usr/local/lib/python3.10/dist-packages (from plspm) (0.14.2)\n",
            "Requirement already satisfied: scikit-learn in /usr/local/lib/python3.10/dist-packages (from plspm) (1.2.2)\n",
            "Requirement already satisfied: python-dateutil>=2.8.2 in /usr/local/lib/python3.10/dist-packages (from pandas->plspm) (2.8.2)\n",
            "Requirement already satisfied: pytz>=2020.1 in /usr/local/lib/python3.10/dist-packages (from pandas->plspm) (2023.4)\n",
            "Requirement already satisfied: tzdata>=2022.1 in /usr/local/lib/python3.10/dist-packages (from pandas->plspm) (2024.1)\n",
            "Requirement already satisfied: joblib>=1.1.1 in /usr/local/lib/python3.10/dist-packages (from scikit-learn->plspm) (1.4.2)\n",
            "Requirement already satisfied: threadpoolctl>=2.0.0 in /usr/local/lib/python3.10/dist-packages (from scikit-learn->plspm) (3.5.0)\n",
            "Requirement already satisfied: patsy>=0.5.6 in /usr/local/lib/python3.10/dist-packages (from statsmodels->plspm) (0.5.6)\n",
            "Requirement already satisfied: packaging>=21.3 in /usr/local/lib/python3.10/dist-packages (from statsmodels->plspm) (24.0)\n",
            "Requirement already satisfied: six in /usr/local/lib/python3.10/dist-packages (from patsy>=0.5.6->statsmodels->plspm) (1.16.0)\n",
            "Installing collected packages: plspm\n",
            "Successfully installed plspm-0.5.6\n",
            "Collecting pandas==1.5.3\n",
            "  Downloading pandas-1.5.3-cp310-cp310-manylinux_2_17_x86_64.manylinux2014_x86_64.whl (12.1 MB)\n",
            "\u001b[2K     \u001b[90m━━━━━━━━━━━━━━━━━━━━━━━━━━━━━━━━━━━━━━━━\u001b[0m \u001b[32m12.1/12.1 MB\u001b[0m \u001b[31m53.1 MB/s\u001b[0m eta \u001b[36m0:00:00\u001b[0m\n",
            "\u001b[?25hRequirement already satisfied: python-dateutil>=2.8.1 in /usr/local/lib/python3.10/dist-packages (from pandas==1.5.3) (2.8.2)\n",
            "Requirement already satisfied: pytz>=2020.1 in /usr/local/lib/python3.10/dist-packages (from pandas==1.5.3) (2023.4)\n",
            "Requirement already satisfied: numpy>=1.21.0 in /usr/local/lib/python3.10/dist-packages (from pandas==1.5.3) (1.25.2)\n",
            "Requirement already satisfied: six>=1.5 in /usr/local/lib/python3.10/dist-packages (from python-dateutil>=2.8.1->pandas==1.5.3) (1.16.0)\n",
            "Installing collected packages: pandas\n",
            "  Attempting uninstall: pandas\n",
            "    Found existing installation: pandas 2.0.3\n",
            "    Uninstalling pandas-2.0.3:\n",
            "      Successfully uninstalled pandas-2.0.3\n",
            "\u001b[31mERROR: pip's dependency resolver does not currently take into account all the packages that are installed. This behaviour is the source of the following dependency conflicts.\n",
            "cudf-cu12 24.4.1 requires pandas<2.2.2dev0,>=2.0, but you have pandas 1.5.3 which is incompatible.\n",
            "google-colab 1.0.0 requires pandas==2.0.3, but you have pandas 1.5.3 which is incompatible.\u001b[0m\u001b[31m\n",
            "\u001b[0mSuccessfully installed pandas-1.5.3\n"
          ]
        }
      ],
      "source": [
        "!pip install plspm\n",
        "!pip install pandas==1.5.3\n",
        "import json\n",
        "import pandas as pd, plspm.config as config_pls\n",
        "from plspm.plspm import Plspm\n",
        "from plspm.scheme import Scheme\n",
        "from plspm.mode import Mode\n",
        "import numpy as np\n",
        "\n",
        "\n",
        "\n",
        "\n",
        "\n"
      ]
    },
    {
      "cell_type": "code",
      "execution_count": 3,
      "metadata": {
        "id": "uPj3Yh68WyRc"
      },
      "outputs": [],
      "source": [
        "\n",
        "#change to your data folder\n",
        "path_data='/content/drive/MyDrive/Colab Notebooks/tesis_juanjo/Accesibilidad_Contribution_Reports/'"
      ]
    },
    {
      "cell_type": "code",
      "execution_count": 4,
      "metadata": {
        "colab": {
          "base_uri": "https://localhost:8080/"
        },
        "id": "cepoS4x2Bi7E",
        "outputId": "3cdb5b3d-27dd-48a2-a95d-eea2539cc986"
      },
      "outputs": [
        {
          "output_type": "stream",
          "name": "stdout",
          "text": [
            "8742\n"
          ]
        }
      ],
      "source": [
        "#Preparamos los datos\n",
        "#mantenemos distinción entre negativos y positivos\n",
        "file_data = path_data+'/data/paper_aspect_decision.csv'\n",
        "\n",
        "\n",
        "data = pd.read_csv(file_data,sep=';')\n",
        "print(len(data))\n",
        "cols = ['originality_positive', 'originality_negative',\n",
        "       'substance_positive', 'substance_negative', 'motivation_positive',\n",
        "       'motivation_negative', 'clarity_positive', 'clarity_negative',\n",
        "       'soundness_positive', 'soundness_negative',\n",
        "       'meaningful_comparison_positive', 'meaningful_comparison_negative',\n",
        "       'replicability_positive', 'replicability_negative', 'decision']\n",
        "cols_neg =['originality_negative','substance_negative','motivation_negative','clarity_negative','soundness_negative','meaningful_comparison_negative','replicability_negative']\n",
        "cols_pos =['originality_positive','substance_positive','motivation_positive','clarity_positive','soundness_positive','meaningful_comparison_positive','replicability_positive']\n",
        "cols_sinsen=['originality','substance','motivation','clarity','soundness','meaningful_comparison','replicability','decision_ref']\n",
        "\n",
        "\n",
        "data.loc[data['decision']==0,'decision']=-1\n",
        "\n",
        "#By default the paper's decision  is neutral(0).\n",
        "data[\"decision_ref\"]=0\n",
        "for index in range(len(data)):\n",
        "  negativos=0\n",
        "  positivos=0\n",
        "  totales =0\n",
        "  #Add all negative aspects\n",
        "  for c in cols_neg:\n",
        "    if data.loc[index,c]<0:\n",
        "      negativos+=-data.loc[index,c]\n",
        "      totales +=-data.loc[index,c]\n",
        "  #Add all negative aspects\n",
        "  for c in cols_pos:\n",
        "    if data.loc[index,c]>0:\n",
        "      positivos+=data.loc[index,c]\n",
        "      totales +=data.loc[index,c]\n",
        "  #if there are aspects\n",
        "  if totales>0:\n",
        "    razon_pos = positivos/totales #ratio of positive aspects\n",
        "    razon_neg = negativos/totales #ratio of negative aspects\n",
        "    if (data.loc[index,'decision']<0): #if the original decision was reject\n",
        "      if (razon_pos<razon_neg):#if the ratio of positive aspects is lesser than the negative aspects\n",
        "        data.loc[index,\"decision_ref\"]=-razon_neg #the refinement decision is the negative ratio of negative aspects\n",
        "    else:\n",
        "       if (data.loc[index,'decision']>0): # if the original decision was accept\n",
        "        if (razon_pos>razon_neg): # the ratio of positive aspects is bigger than\n",
        "          data.loc[index,\"decision_ref\"]=razon_pos #the refinement decision is the ratio of positive aspects\n",
        "\n",
        "\n",
        "\n",
        "\n",
        "#print(data[cols_sinsen].corr())\n",
        "#print(data[cols_sinsen].describe())\n",
        "#print(data.columns)\n",
        "#print(data[['id']+cols_sinsen].head())"
      ]
    },
    {
      "cell_type": "markdown",
      "metadata": {
        "id": "-sUtdjgox5wA"
      },
      "source": [
        "# AccConExp Model. PLS-SEM\n",
        "We eliminate the two components (positive and negative) of the aspects by integrating everything into a single indicator that can take positive and negative values.\n"
      ]
    },
    {
      "cell_type": "code",
      "execution_count": 39,
      "metadata": {
        "colab": {
          "base_uri": "https://localhost:8080/"
        },
        "id": "-Nx9sFLAyQ0T",
        "outputId": "80350998-bb1c-4517-d612-cc60ab014cb2"
      },
      "outputs": [
        {
          "output_type": "stream",
          "name": "stdout",
          "text": [
            "                       type  r_squared  r_squared_adj  block_communality  \\\n",
            "Accessibility     Exogenous   0.000000       0.000000           0.614906   \n",
            "Contribution      Exogenous   0.000000       0.000000           0.563471   \n",
            "Decision         Endogenous   0.659402       0.659285           1.000000   \n",
            "Experimentation   Exogenous   0.000000       0.000000           0.595972   \n",
            "\n",
            "                 mean_redundancy       ave  \n",
            "Accessibility           0.000000  0.614906  \n",
            "Contribution            0.000000  0.563471  \n",
            "Decision                0.659402       NaN  \n",
            "Experimentation         0.000000  0.595972  \n"
          ]
        }
      ],
      "source": [
        "import warnings\n",
        "warnings.filterwarnings('ignore')\n",
        "#we define four constructors\n",
        "structure = config_pls.Structure()\n",
        "\n",
        "\n",
        "structure.add_path(['Accessibility'],[\"Decision\"])\n",
        "structure.add_path(['Contribution'],[\"Decision\"])\n",
        "structure.add_path(['Experimentation'],[\"Decision\"])\n",
        "\n",
        "config = config_pls.Config(structure.path(), scaled=True)\n",
        "\n",
        "config.add_lv(\"Accessibility\", Mode.A,config_pls.MV('clarity'), config_pls.MV('soundness'))\n",
        "config.add_lv(\"Contribution\", Mode.A,config_pls.MV('originality'),config_pls.MV('motivation'))\n",
        "config.add_lv(\"Experimentation\", Mode.A,config_pls.MV('substance'),config_pls.MV('meaningful_comparison'))\n",
        "\n",
        "config.add_lv(\"Decision\", Mode.B,config_pls.MV('decision_ref'))\n",
        "plspm_calc = Plspm(data, config, Scheme.CENTROID,bootstrap=True)\n",
        "\n",
        "#plspm_calc = Plspm(data, config, Scheme.CENTROID)#without bootstrap\n",
        "print(plspm_calc.inner_summary())\n",
        "\n",
        "\n",
        "\n"
      ]
    },
    {
      "cell_type": "code",
      "execution_count": 40,
      "metadata": {
        "colab": {
          "base_uri": "https://localhost:8080/"
        },
        "id": "lorPY6GRzk3B",
        "outputId": "32576eb9-1870-4888-e337-1ee81318ed1c"
      },
      "outputs": [
        {
          "output_type": "stream",
          "name": "stdout",
          "text": [
            "                                        from        to  estimate  std error  \\\n",
            "index                                                                         \n",
            "Experimentation -> Decision  Experimentation  Decision  0.291487   0.006458   \n",
            "Contribution -> Decision        Contribution  Decision  0.388906   0.006334   \n",
            "Accessibility -> Decision      Accessibility  Decision  0.513900   0.006528   \n",
            "\n",
            "                                     t  p>|t|  \n",
            "index                                          \n",
            "Experimentation -> Decision  45.133075    0.0  \n",
            "Contribution -> Decision     61.400882    0.0  \n",
            "Accessibility -> Decision    78.716728    0.0  \n",
            "                       Experimentation  Contribution  Accessibility  Decision\n",
            "clarity                       0.134199      0.100586       0.783136  0.479440\n",
            "soundness                     0.263046      0.157460       0.785181  0.542661\n",
            "originality                   0.060005      0.886803       0.096257  0.399357\n",
            "motivation                    0.058576      0.583543       0.183427  0.360218\n",
            "substance                     0.854547      0.030505       0.214657  0.359312\n",
            "meaningful_comparison         0.679479      0.101383       0.174964  0.344287\n",
            "decision_ref                  0.451524      0.495822       0.651800  1.000000\n"
          ]
        }
      ],
      "source": [
        "print(plspm_calc.inner_model())\n",
        "print(plspm_calc.crossloadings())"
      ]
    },
    {
      "cell_type": "code",
      "execution_count": 41,
      "metadata": {
        "colab": {
          "base_uri": "https://localhost:8080/"
        },
        "id": "uXvai6T3zxwe",
        "outputId": "1895a70e-d36d-40e2-b85e-8bfb690f73dd"
      },
      "outputs": [
        {
          "output_type": "stream",
          "name": "stdout",
          "text": [
            "                mode  mvs  cronbach_alpha  dillon_goldstein_rho   eig_1st  \\\n",
            "Experimentation    A  2.0        0.332757              0.749838  1.199585   \n",
            "Contribution       A  2.0        0.248971              0.727001  1.142185   \n",
            "Accessibility      A  2.0        0.373737              0.761538  1.229813   \n",
            "Decision           B  1.0             NaN                   NaN  1.000000   \n",
            "\n",
            "                  eig_2nd  \n",
            "Experimentation  0.800415  \n",
            "Contribution     0.857815  \n",
            "Accessibility    0.770187  \n",
            "Decision              NaN  \n"
          ]
        }
      ],
      "source": [
        "print(plspm_calc.unidimensionality())"
      ]
    },
    {
      "cell_type": "code",
      "execution_count": 42,
      "metadata": {
        "colab": {
          "base_uri": "https://localhost:8080/"
        },
        "id": "Do3zNln7UnJg",
        "outputId": "b9fc2b3d-1980-48ea-e616-5964dfc75e85"
      },
      "outputs": [
        {
          "output_type": "stream",
          "name": "stdout",
          "text": [
            "                                        from        to    direct  indirect  \\\n",
            "Experimentation -> Decision  Experimentation  Decision  0.291487       0.0   \n",
            "Contribution -> Decision        Contribution  Decision  0.388906       0.0   \n",
            "Accessibility -> Decision      Accessibility  Decision  0.513900       0.0   \n",
            "\n",
            "                                total  \n",
            "Experimentation -> Decision  0.291487  \n",
            "Contribution -> Decision     0.388906  \n",
            "Accessibility -> Decision    0.513900  \n"
          ]
        }
      ],
      "source": [
        "print(plspm_calc.effects())\n",
        "#the effects that each construct has on the rest of constructs by taking into consideration the total number of connections in the inner model"
      ]
    },
    {
      "cell_type": "code",
      "execution_count": 43,
      "metadata": {
        "colab": {
          "base_uri": "https://localhost:8080/"
        },
        "id": "MTv4_WnRWKEv",
        "outputId": "929a279e-ee97-45b6-87fb-aa42ccd19291"
      },
      "outputs": [
        {
          "output_type": "stream",
          "name": "stdout",
          "text": [
            "0.6245020750310193\n"
          ]
        }
      ],
      "source": [
        "print(plspm_calc.goodness_of_fit())"
      ]
    },
    {
      "cell_type": "code",
      "execution_count": 44,
      "metadata": {
        "colab": {
          "base_uri": "https://localhost:8080/"
        },
        "id": "awby9OBD2U1_",
        "outputId": "67258afc-469e-464f-a0e7-ef1b94163fa0"
      },
      "outputs": [
        {
          "output_type": "stream",
          "name": "stdout",
          "text": [
            "R_squared\n",
            "          original      mean  std.error  perc.025  perc.975     t stat.\n",
            "Decision  0.659402  0.659265    0.00548  0.647358  0.668822  120.338934\n",
            "\n",
            "Efects\n",
            "                             original      mean  std.error  perc.025  \\\n",
            "Experimentation -> Decision  0.291487  0.290851   0.006604  0.276164   \n",
            "Contribution -> Decision     0.388906  0.389203   0.005411  0.379546   \n",
            "Accessibility -> Decision    0.513900  0.513852   0.006565  0.500952   \n",
            "\n",
            "                             perc.975    t stat.  \n",
            "Experimentation -> Decision  0.305347  44.139619  \n",
            "Contribution -> Decision     0.397652  71.872693  \n",
            "Accessibility -> Decision    0.525335  78.283912  \n",
            "\n",
            "Paths\n",
            "                             original      mean  std.error  perc.025  \\\n",
            "Experimentation -> Decision  0.291487  0.290851   0.006604  0.276164   \n",
            "Contribution -> Decision     0.388906  0.389203   0.005411  0.379546   \n",
            "Accessibility -> Decision    0.513900  0.513852   0.006565  0.500952   \n",
            "\n",
            "                             perc.975    t stat.  \n",
            "Experimentation -> Decision  0.305347  44.139619  \n",
            "Contribution -> Decision     0.397652  71.872693  \n",
            "Accessibility -> Decision    0.525335  78.283912  \n",
            "\n",
            "Loadings\n",
            "                       original      mean     std.error  perc.025  perc.975  \\\n",
            "clarity                0.783136  0.783832  8.774866e-03  0.764407  0.799926   \n",
            "soundness              0.785181  0.785814  9.416916e-03  0.768000  0.802355   \n",
            "originality            0.886803  0.885970  7.311183e-03  0.874530  0.898416   \n",
            "motivation             0.583543  0.584262  1.504379e-02  0.562821  0.603610   \n",
            "substance              0.854547  0.853925  1.032759e-02  0.827807  0.871305   \n",
            "meaningful_comparison  0.679479  0.677890  1.504215e-02  0.656976  0.708261   \n",
            "decision_ref           1.000000  1.000000  8.057089e-16  1.000000  1.000000   \n",
            "\n",
            "                            t stat.  \n",
            "clarity                8.924767e+01  \n",
            "soundness              8.337987e+01  \n",
            "originality            1.212940e+02  \n",
            "motivation             3.878962e+01  \n",
            "substance              8.274409e+01  \n",
            "meaningful_comparison  4.517169e+01  \n",
            "decision_ref           1.241143e+15  \n"
          ]
        }
      ],
      "source": [
        "b=plspm_calc.bootstrap()\n",
        "print(\"R_squared\")\n",
        "print(b.r_squared())\n",
        "print(\"\")\n",
        "print(\"Efects\")\n",
        "print(b.total_effects())\n",
        "print()\n",
        "print(\"Paths\")\n",
        "print(b.paths())\n",
        "\n",
        "print()\n",
        "print(\"Loadings\")\n",
        "print(b.loading())\n",
        "\n",
        "\n",
        "\n"
      ]
    },
    {
      "cell_type": "code",
      "execution_count": 11,
      "metadata": {
        "colab": {
          "base_uri": "https://localhost:8080/"
        },
        "id": "AMF_Fxgv8DiI",
        "outputId": "206f17f9-9e9e-47e0-9b33-24aae054d0a6"
      },
      "outputs": [
        {
          "output_type": "stream",
          "name": "stdout",
          "text": [
            "       Experimentation  Contribution  Accessibility      Decision\n",
            "count     8.742000e+03  8.742000e+03   8.742000e+03  8.742000e+03\n",
            "mean     -1.300467e-17  5.526985e-17  -3.901401e-17  7.152569e-17\n",
            "std       1.000057e+00  1.000057e+00   1.000057e+00  1.000057e+00\n",
            "min      -5.072358e+00 -4.094125e+00  -5.206905e+00 -1.722481e+00\n",
            "25%      -5.287597e-01 -5.618509e-01  -6.577085e-01 -1.067993e+00\n",
            "50%       2.330862e-01  2.569949e-02   1.562906e-01  2.282075e-02\n",
            "75%       6.956056e-01  6.816315e-01   7.295255e-01  1.020136e+00\n",
            "max       4.014838e+00  4.740045e+00   3.854806e+00  1.768122e+00\n"
          ]
        }
      ],
      "source": [
        "print(plspm_calc.scores().describe())"
      ]
    },
    {
      "cell_type": "code",
      "execution_count": 12,
      "metadata": {
        "colab": {
          "base_uri": "https://localhost:8080/"
        },
        "id": "_-sSx3eol5pC",
        "outputId": "211fbbda-01ca-4221-9f48-f21b27be244a"
      },
      "outputs": [
        {
          "output_type": "stream",
          "name": "stdout",
          "text": [
            "   Experimentation  Contribution  Accessibility  Decision\n",
            "0         0.695606      0.483458       0.729526  1.768122\n",
            "1        -0.528760      0.223873      -1.581756  0.022821\n",
            "2        -0.610356      0.811424       0.156291  0.022821\n",
            "3         0.777202      0.941216       0.747867  1.518794\n",
            "4        -0.147837      1.071008       0.156291  0.022821\n",
            "Minimum values  Experimentation   -5.072358\n",
            "Contribution      -4.094125\n",
            "Accessibility     -5.206905\n",
            "Decision          -1.722481\n",
            "dtype: float64\n",
            "Maximum values  Experimentation    4.014838\n",
            "Contribution       4.740045\n",
            "Accessibility      3.854806\n",
            "Decision           1.768122\n",
            "dtype: float64\n"
          ]
        }
      ],
      "source": [
        "#see the prediction of the construct and compare with the results of the next cell\n",
        "print(plspm_calc.scores().head())\n",
        "print('Minimum values ',plspm_calc.scores().min())\n",
        "print(\"Maximum values \",plspm_calc.scores().max())"
      ]
    },
    {
      "cell_type": "code",
      "execution_count": 13,
      "metadata": {
        "colab": {
          "base_uri": "https://localhost:8080/"
        },
        "id": "lglZhINwmYdk",
        "outputId": "e037891f-0138-431b-c2ae-0b5e163e92d1"
      },
      "outputs": [
        {
          "output_type": "stream",
          "name": "stdout",
          "text": [
            "              id  originality  substance  motivation  clarity  soundness  \\\n",
            "0    ICLR_2017_1            2          0           0        2          0   \n",
            "1   ICLR_2017_10            0         -1           2       -1         -5   \n",
            "2  ICLR_2017_100            2         -2           1        1         -1   \n",
            "3  ICLR_2017_101            3          1           0        1          1   \n",
            "4  ICLR_2017_102            4         -1          -1        1         -1   \n",
            "\n",
            "   meaningful_comparison  replicability  decision_ref  decision  \n",
            "0                      0              0      1.000000         1  \n",
            "1                     -2              0      0.000000         1  \n",
            "2                     -1             -1      0.000000         1  \n",
            "3                     -1              0      0.857143         1  \n",
            "4                     -1             -1      0.000000         1  \n",
            "8742\n"
          ]
        }
      ],
      "source": [
        "c_aux =['id']+cols_sinsen+['decision']\n",
        "print(data[c_aux].head())\n",
        "#print(data['decision'].describe())\n",
        "print(len(data['decision']))"
      ]
    },
    {
      "cell_type": "code",
      "source": [
        "#we joint score with data\n",
        "cols_sinsen=['originality','substance','motivation','clarity','soundness','meaningful_comparison']\n",
        "\n",
        "cols_to_norm=cols_sinsen+['decision']+[\"Accessibility\",\"Contribution\",\"Experimentation\",\"Decision\"]\n",
        "new_pd= pd.concat([data[c_aux],plspm_calc.scores()],axis=1)\n",
        "#normalize\n",
        "normalized_df=(new_pd[cols_to_norm]-new_pd[cols_to_norm].min())/(new_pd[cols_to_norm].max()-new_pd[cols_to_norm].min())\n",
        "normalized_df['id']=data['id']\n",
        "print(normalized_df.head())\n",
        "normalized_df.to_csv(path_data+\"/data/Scores_PLSSem.csv\",sep=';')\n"
      ],
      "metadata": {
        "colab": {
          "base_uri": "https://localhost:8080/"
        },
        "id": "9Pn-hoYLcQor",
        "outputId": "9f18449b-82f3-4ca1-a30b-f9cdfceaeae0"
      },
      "execution_count": 45,
      "outputs": [
        {
          "output_type": "stream",
          "name": "stdout",
          "text": [
            "   originality  substance  motivation   clarity  soundness  \\\n",
            "0     0.588235   0.555556    0.400000  0.708333       0.55   \n",
            "1     0.470588   0.500000    0.533333  0.583333       0.30   \n",
            "2     0.588235   0.444444    0.466667  0.666667       0.50   \n",
            "3     0.647059   0.611111    0.400000  0.666667       0.60   \n",
            "4     0.705882   0.500000    0.333333  0.666667       0.50   \n",
            "\n",
            "   meaningful_comparison  decision  Accessibility  Contribution  \\\n",
            "0               0.769231       1.0       0.655111      0.518168   \n",
            "1               0.615385       1.0       0.400051      0.488784   \n",
            "2               0.692308       1.0       0.591852      0.555293   \n",
            "3               0.692308       1.0       0.657136      0.569985   \n",
            "4               0.692308       1.0       0.591852      0.584677   \n",
            "\n",
            "   Experimentation  Decision             id  \n",
            "0         0.634735  1.000000    ICLR_2017_1  \n",
            "1         0.500000  0.500000   ICLR_2017_10  \n",
            "2         0.491021  0.500000  ICLR_2017_100  \n",
            "3         0.643714  0.928571  ICLR_2017_101  \n",
            "4         0.541919  0.500000  ICLR_2017_102  \n"
          ]
        }
      ]
    },
    {
      "cell_type": "code",
      "source": [
        "#Comparison between editor's decision (decision) and decision calculated in PLS-SEM (Decision)\n",
        "#0-->reject\n",
        "#1-->accept\n",
        "df = normalized_df\n",
        "df.plot.scatter(x='decision', y='Decision',xlabel='Editor\\'s Decision',ylabel='Decision calculated')"
      ],
      "metadata": {
        "colab": {
          "base_uri": "https://localhost:8080/",
          "height": 470
        },
        "id": "LmiCYh8j0SLn",
        "outputId": "deb61d2c-19ac-405c-984a-44de988c83ff"
      },
      "execution_count": 46,
      "outputs": [
        {
          "output_type": "execute_result",
          "data": {
            "text/plain": [
              "<Axes: xlabel=\"Editor's Decision\", ylabel='Decision calculated'>"
            ]
          },
          "metadata": {},
          "execution_count": 46
        },
        {
          "output_type": "display_data",
          "data": {
            "text/plain": [
              "<Figure size 640x480 with 1 Axes>"
            ],
            "image/png": "[encoded data removed]"
          },
          "metadata": {}
        }
      ]
    },
    {
      "cell_type": "code",
      "source": [
        "#aux=df.query('decision==1').sample(n=1000,random_state=42)\n",
        "aux=df.query('decision==1')\n",
        "#cmap='viridis', s=data['a']*100, marker=data['b'])\n",
        "#aux.plot.scatter(x=\"Accessibility\",y=\"Contribution\",c=\"Experimentation\",figsize=(12,10),cmap='jet', s=aux['Experimentation']*500)\n",
        "print(aux.describe())"
      ],
      "metadata": {
        "colab": {
          "base_uri": "https://localhost:8080/"
        },
        "id": "lNqie0X743NM",
        "outputId": "c3de8da1-2775-41c2-a0f2-bceb41ffd267"
      },
      "execution_count": 72,
      "outputs": [
        {
          "output_type": "stream",
          "name": "stdout",
          "text": [
            "       originality    substance   motivation      clarity    soundness  \\\n",
            "count  5309.000000  5309.000000  5309.000000  5309.000000  5309.000000   \n",
            "mean      0.514819     0.524843     0.475319     0.633829     0.564466   \n",
            "std       0.097926     0.084846     0.095821     0.088271     0.097302   \n",
            "min       0.000000     0.000000     0.133333     0.041667     0.150000   \n",
            "25%       0.470588     0.500000     0.400000     0.583333     0.500000   \n",
            "50%       0.529412     0.555556     0.466667     0.625000     0.550000   \n",
            "75%       0.588235     0.555556     0.533333     0.708333     0.600000   \n",
            "max       1.000000     1.000000     1.000000     1.000000     1.000000   \n",
            "\n",
            "       meaningful_comparison  decision  Accessibility  Contribution  \\\n",
            "count            5309.000000    5309.0    5309.000000   5309.000000   \n",
            "mean                0.719634       1.0       0.609808      0.495440   \n",
            "std                 0.095888       0.0       0.096558      0.105012   \n",
            "min                 0.153846       1.0       0.183705      0.037125   \n",
            "25%                 0.692308       1.0       0.561235      0.422275   \n",
            "50%                 0.769231       1.0       0.622470      0.488784   \n",
            "75%                 0.769231       1.0       0.659160      0.555293   \n",
            "max                 1.000000       1.0       1.000000      1.000000   \n",
            "\n",
            "       Experimentation     Decision  \n",
            "count      5309.000000  5309.000000  \n",
            "mean          0.579570     0.679006  \n",
            "std           0.100225     0.173622  \n",
            "min           0.000000     0.500000  \n",
            "25%           0.532939     0.500000  \n",
            "50%           0.592817     0.767857  \n",
            "75%           0.634735     0.833333  \n",
            "max           1.000000     1.000000  \n"
          ]
        }
      ]
    },
    {
      "cell_type": "code",
      "source": [
        "#get information of manuscript accepted\n",
        "aux=df.query('decision==1')\n",
        "\n",
        "cc=['Accessibility','Contribution','Experimentation']\n",
        "print(aux[cc].describe())\n",
        "#get values of Accessibility and Contribution bigger than the mean+-std\n",
        "means = aux[cc].describe()\n",
        "ent1=[means.loc['mean','Accessibility']-means.loc['std','Accessibility'],means.loc['mean','Accessibility']+means.loc['std','Accessibility']]\n",
        "ent2=[means.loc['mean','Contribution']-means.loc['std','Contribution'],means.loc['mean','Contribution']+means.loc['std','Contribution']]\n",
        "ent3=[means.loc['mean','Experimentation']-means.loc['std','Experimentation'],means.loc['mean','Experimentation']+means.loc['std','Experimentation']]\n",
        "str1='Accessibility>'+str(ent1[0])\n",
        "str2='Accessibility<='+str(ent1[1])\n",
        "str3='Contribution>'+str(ent2[0])\n",
        "str4='Contribution<='+str(ent2[1])\n",
        "str5='Experimentation>'+str(ent3[0])\n",
        "str6='Experimentation<='+str(ent3[1])\n",
        "res1=df.query('decision==1 &'+ str1+' &' +str2 + '& '+str3+' & '+str4)\n",
        "print(\"Accessibility & Contribution\",len(res1))\n",
        "res1=df.query('decision==1 &'+ str1+' &' +str2 + '& '+str5+' & '+str6)\n",
        "print(\"Accessibility & Experimentation\",len(res1))\n",
        "res1=df.query('decision==1 &'+ str3+' &' +str4 + '& '+str5+' & '+str6)\n",
        "print(\"Contribution & Experimentation\",len(res1))\n",
        "res1=df.query('decision==1 &'+ str1+' &' +str2 + '& '+str3+' & '+str4+ '& '+str5+' & '+str6)\n",
        "print(\"Accessibility & Contribution & Experimentation\",len(res1))\n",
        "res1=df.query('decision==1 &'+ str1+' &' +str2 )\n",
        "print(\"Accessibility \",len(res1))\n",
        "res1=df.query('decision==1 &'+ str3+' &' +str4 )\n",
        "print(\"Contribution \",len(res1))\n",
        "res1=df.query('decision==1 &'+ str5+' &' +str6 )\n",
        "print(\"Experimentation \",len(res1))"
      ],
      "metadata": {
        "colab": {
          "base_uri": "https://localhost:8080/"
        },
        "id": "xMQnLcfV-N6g",
        "outputId": "93af9af0-e8d4-4bd1-ac95-20ebddebc640"
      },
      "execution_count": 98,
      "outputs": [
        {
          "output_type": "stream",
          "name": "stdout",
          "text": [
            "       Accessibility  Contribution  Experimentation\n",
            "count    5309.000000   5309.000000      5309.000000\n",
            "mean        0.609808      0.495440         0.579570\n",
            "std         0.096558      0.105012         0.100225\n",
            "min         0.183705      0.037125         0.000000\n",
            "25%         0.561235      0.422275         0.532939\n",
            "50%         0.622470      0.488784         0.592817\n",
            "75%         0.659160      0.555293         0.634735\n",
            "max         1.000000      1.000000         1.000000\n",
            "Accessibility & Contribution 2795\n",
            "Accessibility & Experimentation 2809\n",
            "Contribution & Experimentation 2855\n",
            "Accessibility & Contribution & Experimentation 2098\n",
            "Accessibility  3783\n",
            "Contribution  3831\n",
            "Experimentation  3862\n"
          ]
        }
      ]
    },
    {
      "cell_type": "code",
      "source": [
        "#get information of manuscript rejected\n",
        "aux=df.query('decision==0')\n",
        "cc=['Accessibility','Contribution','Experimentation']\n",
        "print(aux[cc].describe())\n",
        "means = aux[cc].describe()\n",
        "ent1=[means.loc['mean','Accessibility']-means.loc['std','Accessibility'],means.loc['mean','Accessibility']+means.loc['std','Accessibility']]\n",
        "ent2=[means.loc['mean','Contribution']-means.loc['std','Contribution'],means.loc['mean','Contribution']+means.loc['std','Contribution']]\n",
        "ent3=[means.loc['mean','Experimentation']-means.loc['std','Experimentation'],means.loc['mean','Experimentation']+means.loc['std','Experimentation']]\n",
        "str1='Accessibility>'+str(ent1[0])\n",
        "str2='Accessibility<='+str(ent1[1])\n",
        "str3='Contribution>'+str(ent2[0])\n",
        "str4='Contribution<='+str(ent2[1])\n",
        "str5='Experimentation>'+str(ent3[0])\n",
        "str6='Experimentation<='+str(ent3[1])\n",
        "res1=df.query('decision==0 &'+ str1+' &' +str2 + '& '+str3+' & '+str4)\n",
        "print(\"Accessibility & Contribution\",len(res1))\n",
        "res1=df.query('decision==0 &'+ str1+' &' +str2 + '& '+str5+' & '+str6)\n",
        "print(\"Accessibility & Experimentation\",len(res1))\n",
        "res1=df.query('decision==0 &'+ str3+' &' +str4 + '& '+str5+' & '+str6)\n",
        "print(\"Contribution & Experimentation\",len(res1))\n",
        "res1=df.query('decision==0 &'+ str1+' &' +str2 + '& '+str3+' & '+str4+ '& '+str5+' & '+str6)\n",
        "print(\"Accessibility & Contribution & Experimentation\",len(res1))"
      ],
      "metadata": {
        "colab": {
          "base_uri": "https://localhost:8080/"
        },
        "outputId": "30265b92-408c-4cd4-ea65-7f33c54ce76d",
        "id": "ShlZk5Hdesg4"
      },
      "execution_count": 97,
      "outputs": [
        {
          "output_type": "stream",
          "name": "stdout",
          "text": [
            "       Accessibility  Contribution  Experimentation\n",
            "count    3433.000000   3433.000000      3433.000000\n",
            "mean        0.520165      0.413959         0.525120\n",
            "std         0.108252      0.107472         0.116230\n",
            "min         0.000000      0.000000         0.017959\n",
            "25%         0.465334      0.348025         0.458081\n",
            "50%         0.530617      0.414534         0.541919\n",
            "75%         0.593877      0.474092         0.601796\n",
            "max         0.942813      0.911059         0.865265\n",
            "Accessibility & Contribution 1840\n",
            "Accessibility & Experimentation 1867\n",
            "Contribution & Experimentation 1954\n",
            "Accessibility & Contribution & Experimentation 1428\n"
          ]
        }
      ]
    }
  ],
  "metadata": {
    "colab": {
      "provenance": [],
      "machine_shape": "hm"
    },
    "kernelspec": {
      "display_name": "Python 3",
      "name": "python3"
    },
    "language_info": {
      "name": "python"
    }
  },
  "nbformat": 4,
  "nbformat_minor": 0
}